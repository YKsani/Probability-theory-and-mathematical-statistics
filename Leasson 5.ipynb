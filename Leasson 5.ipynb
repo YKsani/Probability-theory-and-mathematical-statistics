{
 "cells": [
  {
   "cell_type": "markdown",
   "id": "21a555e9",
   "metadata": {},
   "source": [
    "## Урок 5. Тестирование гипотез\n",
    "\n",
    "### Задача 1\n",
    "\n",
    "Когда используется критерий Стьюдента, а когда Z –критерий?"
   ]
  },
  {
   "cell_type": "code",
   "execution_count": 2,
   "id": "9a3d7f26",
   "metadata": {},
   "outputs": [],
   "source": [
    "import numpy as np\n",
    "from scipy import stats"
   ]
  },
  {
   "cell_type": "markdown",
   "id": "a8c79a6a",
   "metadata": {},
   "source": [
    "Z –критерий используется, когда известна Сигма генеральной совокупности, если она не изветсна то испольуют критерий Стьюдента t.  \n",
    "\n",
    "Наиболее часто t-критерии применяются для проверки равенства средних значений в двух выборках  \n",
    "Нулевая гипотеза предполагает, что средние равны (отрицание этого предположения называют гипотезой сдвига).  \n",
    "\n",
    "Z –критерий обычно применяется для проверки равенства средних значений при  \n",
    "известной дисперсии генеральной совокупности или при оценке выборочного среднего стандартизованных значений"
   ]
  },
  {
   "cell_type": "markdown",
   "id": "01afbec7",
   "metadata": {},
   "source": [
    "### Задача 2\n",
    "\n",
    "Проведите тест гипотезы.  \n",
    "Утверждается, что шарики для подшипников,  \n",
    "изготовленные автоматическим станком, имеют средний диаметр 17 мм.  \n",
    "Используя односторонний критерий с α=0,05, проверить эту гипотезу,  \n",
    "если в выборке из n=100 шариков средний диаметр оказался равным 17.5 мм,  \n",
    "а дисперсия известна и равна 4 кв. мм.  "
   ]
  },
  {
   "cell_type": "code",
   "execution_count": 17,
   "id": "853c9af1",
   "metadata": {},
   "outputs": [
    {
     "data": {
      "text/plain": [
       "2.5"
      ]
     },
     "execution_count": 17,
     "metadata": {},
     "output_type": "execute_result"
    }
   ],
   "source": [
    "z_h = (17.5 - 17)/(2 / np.sqrt(100))\n",
    "z_h"
   ]
  },
  {
   "cell_type": "code",
   "execution_count": 18,
   "id": "cbc99dd9",
   "metadata": {},
   "outputs": [
    {
     "data": {
      "text/plain": [
       "1.6448536269514722"
      ]
     },
     "execution_count": 18,
     "metadata": {},
     "output_type": "execute_result"
    }
   ],
   "source": [
    "alpha = 0.05\n",
    "stats.norm.ppf(1 - alpha)"
   ]
  },
  {
   "cell_type": "markdown",
   "id": "7fe2ad85",
   "metadata": {},
   "source": [
    "так как наблюдаемое значение больше табличного  \n",
    "что гипотеза H0 не верная  \n",
    "принимается гипотеза H1"
   ]
  },
  {
   "cell_type": "markdown",
   "id": "a1ca5624",
   "metadata": {},
   "source": [
    "### Задача 3\n",
    "\n",
    "Проведите тест гипотезы.  \n",
    "Продавец утверждает, что средний вес пачки печенья составляет 200 г.  \n",
    "Из партии извлечена выборка из 10 пачек. Вес каждой пачки составляет:  \n",
    "\n",
    "202, 203, 199, 197, 195, 201, 200, 204, 194, 190. \n",
    "\n",
    "Известно, что их веса распределены нормально.  \n",
    "Верно ли утверждение продавца, если учитывать, что доверительная вероятность равна 99%? (Провести двусторонний тест.)"
   ]
  },
  {
   "cell_type": "code",
   "execution_count": 19,
   "id": "d24f3e5c",
   "metadata": {},
   "outputs": [],
   "source": [
    "x = np.array([202, 203, 199, 197, 195, 201, 200, 204, 194, 190])\n",
    "x_mean = x.mean()\n",
    "x_std = x.std(ddof = 1)"
   ]
  },
  {
   "cell_type": "code",
   "execution_count": 20,
   "id": "3c0f18d7",
   "metadata": {},
   "outputs": [
    {
     "data": {
      "text/plain": [
       "-1.0651074037450896"
      ]
     },
     "execution_count": 20,
     "metadata": {},
     "output_type": "execute_result"
    }
   ],
   "source": [
    "fact = (x_mean - 200) / x_std * np.sqrt(10)\n",
    "fact"
   ]
  },
  {
   "cell_type": "code",
   "execution_count": 21,
   "id": "d43ee013",
   "metadata": {},
   "outputs": [
    {
     "data": {
      "text/plain": [
       "3.25"
      ]
     },
     "execution_count": 21,
     "metadata": {},
     "output_type": "execute_result"
    }
   ],
   "source": [
    "crit = 3.25\n",
    "crit"
   ]
  },
  {
   "cell_type": "code",
   "execution_count": 22,
   "id": "d99f0936",
   "metadata": {},
   "outputs": [
    {
     "data": {
      "text/plain": [
       "3.2498355440153697"
      ]
     },
     "execution_count": 22,
     "metadata": {},
     "output_type": "execute_result"
    }
   ],
   "source": [
    "stats.t.ppf(1 - 0.01 / 2, df = len(x) - 1)"
   ]
  },
  {
   "cell_type": "markdown",
   "id": "60c48d29",
   "metadata": {},
   "source": [
    "так как crit > fact, нулевая гипотеза принимается"
   ]
  },
  {
   "cell_type": "markdown",
   "id": "70950c2c",
   "metadata": {},
   "source": [
    "### Задача 4\n",
    "\n",
    "Есть ли статистически значимые различия в росте дочерей?  \n",
    "\n",
    "Рост матерей 172, 177, 158, 170, 178,175, 164, 160, 169, 165  \n",
    "Рост взрослых дочерей: 173, 175, 162, 174, 175, 168, 155, 170, 160  "
   ]
  },
  {
   "cell_type": "markdown",
   "id": "46dd35a8",
   "metadata": {},
   "source": [
    "Принимаем alpha = 0.05  \n",
    "Используем двухвыборочную t-проверку"
   ]
  },
  {
   "cell_type": "code",
   "execution_count": 12,
   "id": "6435908c",
   "metadata": {},
   "outputs": [
    {
     "data": {
      "text/plain": [
       "Ttest_relResult(statistic=0.559522990335608, pvalue=0.5911212354055175)"
      ]
     },
     "execution_count": 12,
     "metadata": {},
     "output_type": "execute_result"
    }
   ],
   "source": [
    "x_1 = np.array([172, 177, 158, 170, 178, 175, 164, 160, 169])\n",
    "x_2 = np.array([173, 175, 162, 174, 175, 168, 155, 170, 160])\n",
    "\n",
    "stats.ttest_rel(x_1, x_2)"
   ]
  },
  {
   "cell_type": "markdown",
   "id": "adc9dc4b",
   "metadata": {},
   "source": [
    "pvalue > alpha\n",
    "следовательно статистически значимых различий не обнаружено на уровне значимости alpha = 0.05"
   ]
  }
 ],
 "metadata": {
  "kernelspec": {
   "display_name": "Python 3 (ipykernel)",
   "language": "python",
   "name": "python3"
  },
  "language_info": {
   "codemirror_mode": {
    "name": "ipython",
    "version": 3
   },
   "file_extension": ".py",
   "mimetype": "text/x-python",
   "name": "python",
   "nbconvert_exporter": "python",
   "pygments_lexer": "ipython3",
   "version": "3.9.13"
  }
 },
 "nbformat": 4,
 "nbformat_minor": 5
}
